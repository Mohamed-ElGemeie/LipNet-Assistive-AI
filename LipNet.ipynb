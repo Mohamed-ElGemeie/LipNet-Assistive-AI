{
 "cells": [
  {
   "cell_type": "code",
   "execution_count": 6,
   "id": "b24af50c-20b8-409d-ad78-30a933fdd669",
   "metadata": {
    "tags": []
   },
   "outputs": [],
   "source": [
    "import os\n",
    "import cv2\n",
    "import tensorflow as tf\n",
    "import numpy as np\n",
    "from typing import List\n",
    "from matplotlib import pyplot as plt\n",
    "import imageio\n",
    "from typing import Tuple, Union\n",
    "import math\n",
    "import gdown\n",
    "import mediapipe as mp\n",
    "from keras import backend as K\n",
    "import sys\n",
    "print(sys.executable)"
   ]
  },
  {
   "cell_type": "markdown",
   "id": "7a19e88e-c7b9-45c1-ae1e-f2109329c71b",
   "metadata": {
    "tags": []
   },
   "source": [
    "# 1. Build Data Loading Functions"
   ]
  },
  {
   "cell_type": "code",
   "execution_count": 7,
   "id": "a4db2394",
   "metadata": {},
   "outputs": [],
   "source": [
    "# pixels\n",
    "MARGIN = 0\n",
    "ROW_SIZE = 0\n",
    "FONT_SIZE = 1\n",
    "FONT_THICKNESS = 1\n",
    "\n",
    "# Input model Image size\n",
    "IMAGE_SIZE = (50, 100)\n",
    "\n",
    "batch_size = 1"
   ]
  },
  {
   "cell_type": "markdown",
   "id": "8b1f996b",
   "metadata": {},
   "source": [
    "## Functions"
   ]
  },
  {
   "cell_type": "code",
   "execution_count": 8,
   "id": "7e1ec143",
   "metadata": {},
   "outputs": [],
   "source": [
    "def normalized_to_pixel_coordinates(normalized_x, normalized_y, image_width, image_height):\n",
    "    \"\"\"Converts normalized values to pixel coordinates.\"\"\"\n",
    "    x_px = min(max(int(normalized_x * image_width), 0), image_width)\n",
    "    y_px = min(max(int(normalized_y * image_height), 0), image_height)\n",
    "    return x_px, y_px"
   ]
  },
  {
   "cell_type": "code",
   "execution_count": 9,
   "id": "f4561b7c",
   "metadata": {},
   "outputs": [],
   "source": [
    "def contrast_based_histogram_equalization_rgb(image):\n",
    "    # Convert the image to uint8 if not already\n",
    "    if image.dtype != np.uint8:\n",
    "        image = (image * 255).astype(np.uint8)\n",
    "\n",
    "    # Split channels\n",
    "    channels = cv2.split(image)\n",
    "\n",
    "    # Apply histogram equalization to each channel\n",
    "    equalized_channels = [cv2.equalizeHist(channel) for channel in channels]\n",
    "\n",
    "    # Merge channels\n",
    "    equalized_image = cv2.merge(equalized_channels)\n",
    "\n",
    "    # Convert back to float between 0 and 1\n",
    "    equalized_image = equalized_image / 255.0\n",
    "\n",
    "    return equalized_image"
   ]
  },
  {
   "cell_type": "code",
   "execution_count": 10,
   "id": "69d17c2d",
   "metadata": {},
   "outputs": [],
   "source": [
    "import cv2\n",
    "import mediapipe as mp\n",
    "\n",
    "\n",
    "def use_camera():\n",
    "    cap = cv2.VideoCapture(0, cv2.CAP_DSHOW)\n",
    "\n",
    "    # Face detector model\n",
    "    mp_face_detection = mp.solutions.face_detection\n",
    "\n",
    "    with mp_face_detection.FaceDetection(\n",
    "        model_selection=1, min_detection_confidence=1\n",
    "    ) as face_detection:\n",
    "        while True:\n",
    "            ret, frame = cap.read()\n",
    "\n",
    "            if not ret:\n",
    "                print(\"Broken image\")\n",
    "                continue\n",
    "\n",
    "            # Convert to RGB\n",
    "            frame_rgb = cv2.cvtColor(frame, cv2.COLOR_BGR2RGB)\n",
    "\n",
    "            # Get the keypoints of each point of a face in the frame\n",
    "            results = face_detection.process(frame_rgb)\n",
    "\n",
    "            if results.detections:\n",
    "                for detection in results.detections:\n",
    "                    location = detection.location_data\n",
    "                    image_rows, image_cols, _ = frame.shape\n",
    "\n",
    "                    # Assuming the landmarks are correctly indexed\n",
    "                    try:\n",
    "                        # Landmarks\n",
    "                        left_ear = location.relative_keypoints[4]\n",
    "                        right_ear = location.relative_keypoints[5]\n",
    "                        lips = location.relative_keypoints[3]\n",
    "                        nose = location.relative_keypoints[2]\n",
    "                        \n",
    "\n",
    "                        lips = normalized_to_pixel_coordinates(\n",
    "                            lips.x, lips.y, image_cols, image_rows\n",
    "                        )\n",
    "                        left_ear = normalized_to_pixel_coordinates(\n",
    "                            left_ear.x, left_ear.y, image_cols, image_rows\n",
    "                        )\n",
    "                        right_ear = normalized_to_pixel_coordinates(\n",
    "                            right_ear.x, right_ear.y, image_cols, image_rows\n",
    "                        )\n",
    "                        nose = normalized_to_pixel_coordinates(\n",
    "                            nose.x, nose.y, image_cols, image_rows\n",
    "                        )\n",
    "\n",
    "                        # Calculate start and end points of the rectangle\n",
    "                        \n",
    "                        rect_start_point = (lips[0] - int(abs(left_ear[0]- lips[0])) , lips[1] - int(abs(nose[1]- lips[1])))\n",
    "\n",
    "                        rect_end_point = (\n",
    "                            lips[0] + int(abs(right_ear[0]- lips[0])),\n",
    "                            lips[1] + int(abs(nose[1]- lips[1])),\n",
    "                        )\n",
    "\n",
    "                                                # cut\n",
    "                        frame = frame[\n",
    "                            rect_start_point[1] : rect_end_point[1],\n",
    "                            rect_start_point[0] : rect_end_point[0],\n",
    "                            :,\n",
    "                        ]\n",
    "\n",
    "                        frame = cv2.resize(\n",
    "                            frame, (IMAGE_SIZE[1],IMAGE_SIZE[0]), interpolation=cv2.INTER_LANCZOS4\n",
    "                        )\n",
    "                        \n",
    "\n",
    "                        \n",
    "                        frame = contrast_based_histogram_equalization_rgb(frame)\n",
    "                        \n",
    "                        mean_value = np.mean(frame)\n",
    "                        std_dev = np.std(frame)\n",
    "                        frame = (frame - mean_value) / std_dev\n",
    "                        \n",
    "                        cv2.imshow(\"frame\", frame)\n",
    "                        \n",
    "                    except Exception as e:\n",
    "                        # Handle the case where the landmarks are not found\n",
    "                        print(e)\n",
    "                        break\n",
    "\n",
    "            # Display the frame\n",
    "\n",
    "            if cv2.waitKey(1) & 0xFF == ord(\"q\"):\n",
    "                break\n",
    "\n",
    "    cap.release()\n",
    "    cv2.destroyAllWindows()"
   ]
  },
  {
   "cell_type": "code",
   "execution_count": 11,
   "id": "00a8b5a9",
   "metadata": {},
   "outputs": [],
   "source": [
    "# use_camera()"
   ]
  },
  {
   "cell_type": "code",
   "execution_count": 12,
   "id": "29ece1e0",
   "metadata": {},
   "outputs": [],
   "source": [
    "video_dir = os.listdir(r\"data\\me\\me\")\n",
    "alignments_dir = os.listdir(r\"data\\me\\alignments\")"
   ]
  },
  {
   "cell_type": "code",
   "execution_count": 13,
   "id": "0e9d6536",
   "metadata": {},
   "outputs": [
    {
     "data": {
      "text/plain": [
       "38"
      ]
     },
     "execution_count": 13,
     "metadata": {},
     "output_type": "execute_result"
    }
   ],
   "source": [
    "def get_max_letters():\n",
    "    max_letters = []\n",
    "    for i in alignments_dir:\n",
    "        with open(\"data\\me\\\\alignments\\\\\"+i, \"r\") as f:\n",
    "            lines = f.readlines()\n",
    "        tokens = 0\n",
    "        spaces = 0\n",
    "        for line in lines:\n",
    "            line = line.strip(\"\\n\")\n",
    "            tokens += len(line)\n",
    "            spaces += 1\n",
    "\n",
    "        max_letters.append(tokens+spaces-1)\n",
    "    return max(max_letters)\n",
    "\n",
    "max_letters = get_max_letters()\n",
    "max_letters"
   ]
  },
  {
   "cell_type": "code",
   "execution_count": 14,
   "id": "79e18ec3",
   "metadata": {},
   "outputs": [
    {
     "data": {
      "text/plain": [
       "103"
      ]
     },
     "execution_count": 14,
     "metadata": {},
     "output_type": "execute_result"
    }
   ],
   "source": [
    "def get_max_frames():\n",
    "    max_frames = []\n",
    "    for i in video_dir:\n",
    "        cap = cv2.VideoCapture(fr\"data\\me\\me\\{i}\")\n",
    "        max_frames.append(int(cap.get(cv2.CAP_PROP_FRAME_COUNT)))\n",
    "        cap.release()\n",
    "    \n",
    "    return max(max_frames)\n",
    "max_frames = get_max_frames()\n",
    "max_frames"
   ]
  },
  {
   "cell_type": "code",
   "execution_count": 15,
   "id": "458eb5f1",
   "metadata": {},
   "outputs": [],
   "source": [
    "def load_video(path: str) -> List[float]:\n",
    "    # opens the video's path as a camera object\n",
    "    cap = cv2.VideoCapture(path)\n",
    "    if not cap.isOpened():\n",
    "        print(\"Error: Could not open video.\")\n",
    "        return\n",
    "    # face detector model\n",
    "    mp_face_detection = mp.solutions.face_detection\n",
    "\n",
    "    # frames of the video\n",
    "    frames = np.empty((max_frames, IMAGE_SIZE[0], IMAGE_SIZE[1], 3))\n",
    "\n",
    "    idx = 0\n",
    "\n",
    "    with mp_face_detection.FaceDetection(\n",
    "        model_selection=2, min_detection_confidence=1\n",
    "    ) as face_detection:\n",
    "        # loop over all frames in the video\n",
    "        for _ in range(int(cap.get(cv2.CAP_PROP_FRAME_COUNT))):\n",
    "            ret, frame = cap.read()\n",
    "\n",
    "            # convert to rgb\n",
    "            frame = cv2.cvtColor(frame, cv2.COLOR_BGR2RGB)\n",
    "            # get the keypoints (x,y)s of each point of a face in the frame\n",
    "            results = face_detection.process(frame)\n",
    "\n",
    "            # loop over each face landmark ~ (nose (x,y) lips (x,y) and so one and a bounding box)\n",
    "            if results.detections:\n",
    "                for detection in results.detections:\n",
    "                    location = detection.location_data\n",
    "\n",
    "                    image_rows, image_cols, _ = frame.shape\n",
    "                    # Assuming the landmarks are correctly indexed\n",
    "                    try:\n",
    "                        # Landmarks\n",
    "\n",
    "                        left_ear = location.relative_keypoints[4]\n",
    "                        right_ear = location.relative_keypoints[5]\n",
    "                        lips = location.relative_keypoints[3]\n",
    "                        nose = location.relative_keypoints[2]\n",
    "\n",
    "                        if not (nose and left_ear and right_ear and lips):\n",
    "                            raise Exception(\"\")\n",
    "                        lips = normalized_to_pixel_coordinates(\n",
    "                            lips.x, lips.y, image_cols, image_rows\n",
    "                        )\n",
    "                        left_ear = normalized_to_pixel_coordinates(\n",
    "                            left_ear.x, left_ear.y, image_cols, image_rows\n",
    "                        )\n",
    "                        right_ear = normalized_to_pixel_coordinates(\n",
    "                            right_ear.x, right_ear.y, image_cols, image_rows\n",
    "                        )\n",
    "                        nose = normalized_to_pixel_coordinates(\n",
    "                            nose.x, nose.y, image_cols, image_rows\n",
    "                        )\n",
    "                        \n",
    "                        rect_start_point = (lips[0] - int(abs(left_ear[0]- lips[0])) , lips[1] - int(abs(nose[1]- lips[1])))\n",
    "\n",
    "                        rect_end_point = (\n",
    "                            lips[0] + int(abs(right_ear[0]- lips[0])),\n",
    "                            lips[1] + int(abs(nose[1]- lips[1])),\n",
    "                        )\n",
    "                        # cut\n",
    "                        frame = frame[\n",
    "                            rect_start_point[1] : rect_end_point[1],\n",
    "                            rect_start_point[0] : rect_end_point[0],\n",
    "                            :,\n",
    "                        ]\n",
    "\n",
    "                        frame = cv2.resize(\n",
    "                            frame, (IMAGE_SIZE[1],IMAGE_SIZE[0]), interpolation=cv2.INTER_LANCZOS4\n",
    "                        )\n",
    "                        \n",
    "\n",
    "                        \n",
    "                        frame = contrast_based_histogram_equalization_rgb(frame)\n",
    "                        \n",
    "                        mean_value = np.mean(frame)\n",
    "                        std_dev = np.std(frame)\n",
    "                        frame = (frame - mean_value) / std_dev\n",
    "\n",
    "                        frames[idx] = frame\n",
    "\n",
    "                        idx += 1\n",
    "\n",
    "                    except Exception as e:\n",
    "                        # Handle the case where the landmarks are not found\n",
    "                        print(e)\n",
    "\n",
    "        if idx < get_max_frames():\n",
    "            for i in range(idx, max_frames):\n",
    "                frames[i] = np.zeros((IMAGE_SIZE[0], IMAGE_SIZE[1],3))\n",
    "\n",
    "        cap.release()\n",
    "        cv2.waitKey(0)\n",
    "\n",
    "        # normalize on the scale of the video\n",
    "        mean = tf.math.reduce_mean(frames)\n",
    "        std = tf.math.reduce_std(tf.cast(frames, tf.float32))\n",
    "        normalized = tf.cast((frames - mean), tf.float32) / std\n",
    "        return normalized\n"
   ]
  },
  {
   "cell_type": "code",
   "execution_count": null,
   "id": "16136e91",
   "metadata": {},
   "outputs": [],
   "source": [
    "x = load_video(r'data\\me\\me\\10 Galal.mp4')\n",
    "plt.imshow(x[20])"
   ]
  },
  {
   "cell_type": "code",
   "execution_count": null,
   "id": "53c97e2e",
   "metadata": {},
   "outputs": [],
   "source": [
    "x = load_video(r'data\\me\\me\\8 Galal.mp4')\n",
    "plt.imshow(x[0])"
   ]
  },
  {
   "cell_type": "code",
   "execution_count": null,
   "id": "5476a736",
   "metadata": {},
   "outputs": [],
   "source": [
    "x = load_video(r'data\\me\\me\\19 Galal.mp4')\n",
    "plt.imshow(x[0])"
   ]
  },
  {
   "cell_type": "code",
   "execution_count": null,
   "id": "2e74f07a",
   "metadata": {},
   "outputs": [],
   "source": [
    "x.shape"
   ]
  },
  {
   "cell_type": "code",
   "execution_count": null,
   "id": "e4a4d6e0",
   "metadata": {},
   "outputs": [],
   "source": [
    "x.numpy().max(), x.numpy().min()"
   ]
  },
  {
   "cell_type": "code",
   "execution_count": 16,
   "id": "ec735e0b-ec98-4eb0-8f49-c35527d6670a",
   "metadata": {
    "tags": []
   },
   "outputs": [],
   "source": [
    "vocab = [x for x in \"ابتثجحخدذرزسشصضطظعغفقكلمنهويىء٠١٢٣٤٥٦٧٨٩ \"]"
   ]
  },
  {
   "cell_type": "code",
   "execution_count": 17,
   "id": "be04e972-d7a5-4a72-82d8-a6bdde1f3ce6",
   "metadata": {
    "tags": []
   },
   "outputs": [
    {
     "name": "stdout",
     "output_type": "stream",
     "text": [
      "The vocabulary is: ['', 'ا', 'ب', 'ت', 'ث', 'ج', 'ح', 'خ', 'د', 'ذ', 'ر', 'ز', 'س', 'ش', 'ص', 'ض', 'ط', 'ظ', 'ع', 'غ', 'ف', 'ق', 'ك', 'ل', 'م', 'ن', 'ه', 'و', 'ي', 'ى', 'ء', '٠', '١', '٢', '٣', '٤', '٥', '٦', '٧', '٨', '٩', ' '] (size =42)\n"
     ]
    }
   ],
   "source": [
    "char_to_num = tf.keras.layers.StringLookup(vocabulary=vocab, oov_token=\"\")\n",
    "num_to_char = tf.keras.layers.StringLookup(\n",
    "    vocabulary=char_to_num.get_vocabulary(), oov_token=\"\", invert=True\n",
    ")\n",
    "\n",
    "print(\n",
    "    f\"The vocabulary is: {char_to_num.get_vocabulary()} \"\n",
    "    f\"(size ={char_to_num.vocabulary_size()})\"\n",
    ")"
   ]
  },
  {
   "cell_type": "code",
   "execution_count": null,
   "id": "559f7420-6802-45fa-9ca0-b1ff209b461c",
   "metadata": {
    "tags": []
   },
   "outputs": [],
   "source": [
    "char_to_num.get_vocabulary()"
   ]
  },
  {
   "cell_type": "code",
   "execution_count": 18,
   "id": "6420e4bd",
   "metadata": {},
   "outputs": [],
   "source": [
    "def char_to_arab(alignments):\n",
    "    sub_arrays = []\n",
    "    current_sub_array = []\n",
    "    for element in num_to_char(alignments).numpy():\n",
    "        if element.decode(\"utf-8\") == \"\":\n",
    "            if current_sub_array:  # Add a non-empty sub-array\n",
    "                sub_arrays.append(current_sub_array)\n",
    "            current_sub_array = []  # Start a new sub-array\n",
    "        else:\n",
    "            current_sub_array.append(element.decode(\"utf-8\"))\n",
    "\n",
    "    if current_sub_array:  # Add the last sub-array if it's not empty\n",
    "        sub_arrays.append(current_sub_array)\n",
    "\n",
    "    for i in sub_arrays:\n",
    "        print(''.join(i),end=\" \")"
   ]
  },
  {
   "cell_type": "code",
   "execution_count": null,
   "id": "797ff78b-b48f-4e14-bb62-8cd0ebf9501a",
   "metadata": {
    "tags": []
   },
   "outputs": [],
   "source": [
    "char_to_num([\"\",\"ا\", \"ن\", \"ا\", \" \", \"ا\", \"ن\", \"ا\", \"\"])"
   ]
  },
  {
   "cell_type": "code",
   "execution_count": null,
   "id": "361f26bb",
   "metadata": {},
   "outputs": [],
   "source": [
    "char_to_arab([1, 25, 1,0, 1, 25, 1])"
   ]
  },
  {
   "cell_type": "code",
   "execution_count": 19,
   "id": "9491bab5-6a3c-4f79-879a-8f9fbe73ae2e",
   "metadata": {
    "tags": []
   },
   "outputs": [],
   "source": [
    "def load_alignments(path:str) -> List[str]: \n",
    "    with open(path, 'r') as f: \n",
    "        lines = f.readlines() \n",
    "    tokens = []\n",
    "    for line in lines:\n",
    "        line = line.strip(\"\\n\")\n",
    "        tokens = [*tokens,' ',line]\n",
    "\n",
    "    return char_to_num(tf.reshape(tf.strings.unicode_split(tokens, input_encoding='UTF-8'), (-1)))[1:]"
   ]
  },
  {
   "cell_type": "code",
   "execution_count": null,
   "id": "9598411b",
   "metadata": {},
   "outputs": [],
   "source": [
    "label = load_alignments(r\"data\\me\\alignments\\15 Galal.align\")"
   ]
  },
  {
   "cell_type": "code",
   "execution_count": 20,
   "id": "dd01ca9f-77fb-4643-a2aa-47dd82c5d66b",
   "metadata": {
    "tags": []
   },
   "outputs": [],
   "source": [
    "def load_data(path: str): \n",
    "    path = bytes.decode(path.numpy())\n",
    "    #file_name = path.split('/')[-1].split('.')[0]\n",
    "    # File name splitting for windows\n",
    "    file_name = path.split('\\\\')[-1].split('.')[0]\n",
    "    video_path = os.path.join('data','me','me',f'{file_name}.mp4')\n",
    "    alignment_path = os.path.join('data','me','alignments',f'{file_name}.align')\n",
    "    frames = load_video(video_path) \n",
    "    alignments = load_alignments(alignment_path)\n",
    "    \n",
    "    return frames, alignments"
   ]
  },
  {
   "cell_type": "code",
   "execution_count": null,
   "id": "8cb7cc58-31ae-4904-a805-1177a82717d2",
   "metadata": {
    "tags": []
   },
   "outputs": [],
   "source": [
    "test_path = r'data\\me\\me\\15 Galal.align'"
   ]
  },
  {
   "cell_type": "code",
   "execution_count": null,
   "id": "76aa964f-0c84-490d-897a-d00e3966e2c9",
   "metadata": {},
   "outputs": [],
   "source": [
    "tf.convert_to_tensor(test_path).numpy().decode('utf-8').split('\\\\')[-1].split('.')[0]"
   ]
  },
  {
   "cell_type": "code",
   "execution_count": null,
   "id": "eb602c71-8560-4f9e-b26b-08202febb937",
   "metadata": {
    "scrolled": true,
    "tags": []
   },
   "outputs": [],
   "source": [
    "frames, alignments = load_data(tf.convert_to_tensor(test_path))"
   ]
  },
  {
   "cell_type": "code",
   "execution_count": null,
   "id": "0e3184a1-6b02-4b4f-84a8-a0a65f951ea2",
   "metadata": {},
   "outputs": [],
   "source": [
    "plt.imshow(frames[0],cmap='gray')"
   ]
  },
  {
   "cell_type": "code",
   "execution_count": null,
   "id": "d7ec0833-d54b-4073-84cf-92d011c60ec1",
   "metadata": {},
   "outputs": [],
   "source": [
    "alignments"
   ]
  },
  {
   "cell_type": "code",
   "execution_count": null,
   "id": "a2302581",
   "metadata": {},
   "outputs": [],
   "source": [
    "char_to_arab(alignments)"
   ]
  },
  {
   "cell_type": "code",
   "execution_count": 21,
   "id": "6871031a-b0ba-4c76-a852-f6329b0f2606",
   "metadata": {
    "tags": []
   },
   "outputs": [],
   "source": [
    "def mappable_function(path:str) ->List[str]:\n",
    "    result = tf.py_function(load_data, [path], (tf.float32, tf.int64))\n",
    "    return result"
   ]
  },
  {
   "cell_type": "markdown",
   "id": "c40a7eb4-0c3e-4eab-9291-5611cb68ce08",
   "metadata": {
    "tags": []
   },
   "source": [
    "# 2. Create Data Pipeline"
   ]
  },
  {
   "cell_type": "code",
   "execution_count": 22,
   "id": "74faf9ca",
   "metadata": {},
   "outputs": [],
   "source": [
    "# List all files\n",
    "data = tf.data.Dataset.list_files(\"./data/me/me/*\")\n",
    "\n",
    "# Shuffle the dataset\n",
    "data = data.shuffle(500, reshuffle_each_iteration=False)\n",
    "\n",
    "# Count the total number of files\n",
    "num_files = data.cardinality().numpy()\n",
    "\n",
    "# Define the sizes for each set\n",
    "train_size = int(0.8 * num_files)\n",
    "val_size = int(0.1 * num_files)\n",
    "test_size = num_files - train_size - val_size\n",
    "\n",
    "# Split the dataset\n",
    "train_data = data.take(train_size)\n",
    "val_test_data = data.skip(train_size)\n",
    "val_data = val_test_data.take(val_size)\n",
    "test_data = val_test_data.skip(val_size)\n",
    "\n",
    "\n",
    "train_data = train_data.map(mappable_function)\n",
    "train_data = train_data.padded_batch(\n",
    "    batch_size, padded_shapes=([max_frames, None, None, None], [max_letters])\n",
    ")\n",
    "train_data = train_data.prefetch(tf.data.AUTOTUNE)\n",
    "\n",
    "val_data = val_data.map(mappable_function)\n",
    "val_data = val_data.padded_batch(\n",
    "    batch_size, padded_shapes=([max_frames, None, None, None], [max_letters])\n",
    ")\n",
    "val_data = val_data.prefetch(tf.data.AUTOTUNE)\n",
    "\n",
    "test_data = test_data.map(mappable_function)\n",
    "test_data = test_data.padded_batch(\n",
    "    batch_size, padded_shapes=([max_frames, None, None, None], [max_letters])\n",
    ")\n",
    "test_data = test_data.prefetch(tf.data.AUTOTUNE)\n"
   ]
  },
  {
   "cell_type": "code",
   "execution_count": null,
   "id": "fd686633",
   "metadata": {},
   "outputs": [],
   "source": [
    "char_to_num.vocabulary_size()"
   ]
  },
  {
   "cell_type": "code",
   "execution_count": null,
   "id": "5281bde8-fdc8-4da1-bd55-5a7929a9e80c",
   "metadata": {},
   "outputs": [],
   "source": [
    "frames, alignments = train_data.as_numpy_iterator().next()"
   ]
  },
  {
   "cell_type": "code",
   "execution_count": null,
   "id": "cbebe683-6afd-47fd-bba4-c83b4b13bb32",
   "metadata": {},
   "outputs": [],
   "source": [
    "frames[0].shape"
   ]
  },
  {
   "cell_type": "code",
   "execution_count": null,
   "id": "5cf2d676-93a9-434c-b3c7-bdcc2577b2e7",
   "metadata": {
    "tags": []
   },
   "outputs": [],
   "source": [
    "sample = train_data.as_numpy_iterator()"
   ]
  },
  {
   "cell_type": "code",
   "execution_count": null,
   "id": "efa6cd46-7079-46c0-b45b-832f339f6cb0",
   "metadata": {
    "scrolled": true,
    "tags": []
   },
   "outputs": [],
   "source": [
    "val = sample.next()\n",
    "\n",
    "val[1][0].shape,val[0][0].shape"
   ]
  },
  {
   "cell_type": "code",
   "execution_count": null,
   "id": "e690fe50",
   "metadata": {},
   "outputs": [],
   "source": [
    "val[0].shape"
   ]
  },
  {
   "cell_type": "code",
   "execution_count": null,
   "id": "c497767d",
   "metadata": {},
   "outputs": [],
   "source": [
    "val[1][0]"
   ]
  },
  {
   "cell_type": "code",
   "execution_count": null,
   "id": "672ff660",
   "metadata": {},
   "outputs": [],
   "source": [
    "char_to_arab(val[1][0])"
   ]
  },
  {
   "cell_type": "markdown",
   "id": "0f47733c-83bc-465c-b118-b198b492ad37",
   "metadata": {
    "tags": []
   },
   "source": [
    "# 3. Design the Deep Neural Network"
   ]
  },
  {
   "cell_type": "code",
   "execution_count": 1,
   "id": "d8e9a497-191b-4842-afbd-26f5e13c43ba",
   "metadata": {
    "tags": []
   },
   "outputs": [],
   "source": [
    "from tensorflow.keras.models import Sequential ,model_from_json\n",
    "from tensorflow.keras.layers import Conv3D,GRU, Dense, Dropout, Bidirectional, MaxPool3D, Activation, TimeDistributed, Flatten\n",
    "from tensorflow.keras.optimizers import Adam\n",
    "from tensorflow.keras.callbacks import ModelCheckpoint, LearningRateScheduler"
   ]
  },
  {
   "cell_type": "code",
   "execution_count": null,
   "id": "3f753ed2-70b9-4236-8c1c-08ca065dc8bf",
   "metadata": {},
   "outputs": [],
   "source": [
    "train_data.as_numpy_iterator().next()[0][0].shape"
   ]
  },
  {
   "cell_type": "code",
   "execution_count": null,
   "id": "bd7e8354",
   "metadata": {},
   "outputs": [],
   "source": [
    "char_to_num.vocabulary_size()"
   ]
  },
  {
   "cell_type": "code",
   "execution_count": 24,
   "id": "f9171056-a352-491a-9ed9-92b28ced268e",
   "metadata": {
    "tags": []
   },
   "outputs": [],
   "source": [
    "model = Sequential()\n",
    "model.add(Conv3D(32,(1, 5, 5),strides=(1,2,2), input_shape=(max_frames, IMAGE_SIZE[0],IMAGE_SIZE[1], 3), padding=\"same\"))\n",
    "model.add(Activation('relu'))\n",
    "model.add(MaxPool3D((1,2,2)))\n",
    "\n",
    "model.add(Conv3D(64,(1, 5, 5), padding=\"same\"))\n",
    "model.add(Activation('relu'))\n",
    "model.add(MaxPool3D((1,2,2)))\n",
    "\n",
    "model.add(Conv3D(96,(1, 3, 3), padding=\"same\"))\n",
    "model.add(Activation('relu'))\n",
    "model.add(MaxPool3D((1,2,2)))\n",
    "\n",
    "model.add(TimeDistributed(Flatten()))\n",
    "\n",
    "model.add(Bidirectional(GRU(256,kernel_initializer=\"Orthogonal\", return_sequences=True)))\n",
    "model.add(Dropout(0.5))\n",
    "model.add(Bidirectional(GRU(256,kernel_initializer=\"Orthogonal\", return_sequences=True)))\n",
    "model.add(Dropout(0.5))\n",
    "\n",
    "model.add(Dense(char_to_num.vocabulary_size()+1, kernel_initializer='he_normal', activation='softmax'))"
   ]
  },
  {
   "cell_type": "code",
   "execution_count": 26,
   "id": "78851825-2bcd-42a9-b7f2-28bb5a6bf43a",
   "metadata": {
    "collapsed": true,
    "jupyter": {
     "outputs_hidden": true
    },
    "tags": []
   },
   "outputs": [
    {
     "name": "stdout",
     "output_type": "stream",
     "text": [
      "Model: \"sequential\"\n",
      "_________________________________________________________________\n",
      " Layer (type)                Output Shape              Param #   \n",
      "=================================================================\n",
      " conv3d (Conv3D)             (None, 103, 25, 50, 32)   2432      \n",
      "                                                                 \n",
      " activation (Activation)     (None, 103, 25, 50, 32)   0         \n",
      "                                                                 \n",
      " max_pooling3d (MaxPooling3  (None, 103, 12, 25, 32)   0         \n",
      " D)                                                              \n",
      "                                                                 \n",
      " conv3d_1 (Conv3D)           (None, 103, 12, 25, 64)   51264     \n",
      "                                                                 \n",
      " activation_1 (Activation)   (None, 103, 12, 25, 64)   0         \n",
      "                                                                 \n",
      " max_pooling3d_1 (MaxPoolin  (None, 103, 6, 12, 64)    0         \n",
      " g3D)                                                            \n",
      "                                                                 \n",
      " conv3d_2 (Conv3D)           (None, 103, 6, 12, 96)    55392     \n",
      "                                                                 \n",
      " activation_2 (Activation)   (None, 103, 6, 12, 96)    0         \n",
      "                                                                 \n",
      " max_pooling3d_2 (MaxPoolin  (None, 103, 3, 6, 96)     0         \n",
      " g3D)                                                            \n",
      "                                                                 \n",
      " time_distributed (TimeDist  (None, 103, 1728)         0         \n",
      " ributed)                                                        \n",
      "                                                                 \n",
      " bidirectional (Bidirection  (None, 103, 512)          3050496   \n",
      " al)                                                             \n",
      "                                                                 \n",
      " dropout (Dropout)           (None, 103, 512)          0         \n",
      "                                                                 \n",
      " bidirectional_1 (Bidirecti  (None, 103, 512)          1182720   \n",
      " onal)                                                           \n",
      "                                                                 \n",
      " dropout_1 (Dropout)         (None, 103, 512)          0         \n",
      "                                                                 \n",
      " dense (Dense)               (None, 103, 43)           22059     \n",
      "                                                                 \n",
      "=================================================================\n",
      "Total params: 4364363 (16.65 MB)\n",
      "Trainable params: 4364363 (16.65 MB)\n",
      "Non-trainable params: 0 (0.00 Byte)\n",
      "_________________________________________________________________\n"
     ]
    }
   ],
   "source": [
    "model.summary()"
   ]
  },
  {
   "cell_type": "code",
   "execution_count": null,
   "id": "e5c2eae0-c359-41a4-97a0-75c44dccb7d1",
   "metadata": {
    "tags": []
   },
   "outputs": [],
   "source": [
    "yhat = model.predict(val[0])"
   ]
  },
  {
   "cell_type": "code",
   "execution_count": null,
   "id": "a036e07f",
   "metadata": {},
   "outputs": [],
   "source": [
    "val[0].shape"
   ]
  },
  {
   "cell_type": "code",
   "execution_count": null,
   "id": "4048d822",
   "metadata": {},
   "outputs": [],
   "source": [
    "yhat.shape"
   ]
  },
  {
   "cell_type": "code",
   "execution_count": null,
   "id": "4ddf98a1",
   "metadata": {},
   "outputs": [],
   "source": [
    "yhat[0].shape"
   ]
  },
  {
   "cell_type": "code",
   "execution_count": null,
   "id": "ffdc7319-0d69-4f7e-a6d4-ce72deb81c0b",
   "metadata": {},
   "outputs": [],
   "source": [
    "char_to_arab(tf.argmax(yhat[0], axis=1).numpy())"
   ]
  },
  {
   "cell_type": "code",
   "execution_count": null,
   "id": "7c37b9b9-5298-4038-9c33-5031d1b457f0",
   "metadata": {
    "tags": []
   },
   "outputs": [],
   "source": [
    "model.input_shape"
   ]
  },
  {
   "cell_type": "code",
   "execution_count": null,
   "id": "98b316a4-5322-4782-8e36-4b3c1a696d85",
   "metadata": {
    "tags": []
   },
   "outputs": [],
   "source": [
    "model.output_shape"
   ]
  },
  {
   "cell_type": "markdown",
   "id": "2ec02176-5c26-46c3-aff7-8352e6563c7d",
   "metadata": {
    "tags": []
   },
   "source": [
    "# 4. Setup Training Options and Train"
   ]
  },
  {
   "cell_type": "code",
   "execution_count": null,
   "id": "c564d5c9-db54-4e88-b311-9aeab7fb3e69",
   "metadata": {
    "tags": []
   },
   "outputs": [],
   "source": [
    "def CTCLoss(y_true, y_pred):\n",
    "    batch_len = tf.cast(tf.shape(y_true)[0], dtype=\"int64\")\n",
    "    input_length = tf.cast(tf.shape(y_pred)[1], dtype=\"int64\")\n",
    "    label_length = tf.cast(tf.shape(y_true)[1], dtype=\"int64\")\n",
    "\n",
    "    input_length = input_length * tf.ones(shape=(batch_len, 1), dtype=\"int64\")\n",
    "    label_length = label_length * tf.ones(shape=(batch_len, 1), dtype=\"int64\")\n",
    "\n",
    "    loss = tf.keras.backend.ctc_batch_cost(y_true, y_pred, input_length, label_length)\n",
    "    return loss"
   ]
  },
  {
   "cell_type": "code",
   "execution_count": null,
   "id": "a26dc3fc-a19c-4378-bd8c-e2b597a1d15c",
   "metadata": {
    "tags": []
   },
   "outputs": [],
   "source": [
    "class ProduceExample(tf.keras.callbacks.Callback):\n",
    "    def __init__(self, dataset) -> None:\n",
    "        self.sample = train_data.as_numpy_iterator().next()\n",
    "\n",
    "    def on_epoch_end(self, epoch, logs=None) -> None:\n",
    "        data = self.sample\n",
    "        yhat = self.model.predict(data[0],verbose=0)  # [75,75]\n",
    "        # yhat = yhat.reshape((yhat.shape[1],yhat.shape[2]))\n",
    "        # print()\n",
    "        # print()\n",
    "\n",
    "        # print(yhat)\n",
    "        decoded_200 = tf.keras.backend.ctc_decode(yhat, [max_frames], greedy=False,beam_width=200)[0][0].numpy()\n",
    "        decoded_100 = tf.keras.backend.ctc_decode(yhat, [max_frames], greedy=False,beam_width=100)[0][0].numpy()\n",
    "        decoded_50 = tf.keras.backend.ctc_decode(yhat, [max_frames], greedy=False,beam_width=50)[0][0].numpy()\n",
    "        decoded_letter = tf.keras.backend.ctc_decode(yhat, [max_frames], greedy=False,beam_width=char_to_num.vocabulary_size()+1)[0][0].numpy()\n",
    "        decoded_40 = tf.keras.backend.ctc_decode(yhat, [max_frames], greedy=False,beam_width=40)[0][0].numpy()\n",
    "        decoded_30 = tf.keras.backend.ctc_decode(yhat, [max_frames], greedy=False,beam_width=30)[0][0].numpy()\n",
    "        decoded_20 = tf.keras.backend.ctc_decode(yhat, [max_frames], greedy=False,beam_width=20)[0][0].numpy()\n",
    "        decoded_10 = tf.keras.backend.ctc_decode(yhat, [max_frames], greedy=False,beam_width=10)[0][0].numpy()\n",
    "        decoded_5 = tf.keras.backend.ctc_decode(yhat, [max_frames], greedy=False,beam_width=5)[0][0].numpy()\n",
    "        decoded_1 = tf.keras.backend.ctc_decode(yhat, [max_frames], greedy=False,beam_width=1)[0][0].numpy()\n",
    "        decoded_1_greedy = tf.keras.backend.ctc_decode(yhat, [max_frames], greedy=True)[0][0].numpy()\n",
    "\n",
    "        for x in range(len(yhat)):\n",
    "            print(\"\\n\\n\")\n",
    "            print(\"Original:\",tf.strings.reduce_join(num_to_char(data[1][x])).numpy().decode(\"utf-8\"))\n",
    "            print(\"Prediction Dec 200:\",tf.strings.reduce_join(num_to_char(decoded_200[x])).numpy().decode(\"utf-8\"))\n",
    "            print(\"Prediction Dec 100:\",tf.strings.reduce_join(num_to_char(decoded_100[x])).numpy().decode(\"utf-8\"))\n",
    "            print(\"Prediction Dec 50:\",tf.strings.reduce_join(num_to_char(decoded_50[x])).numpy().decode(\"utf-8\"))\n",
    "            print(\"Prediction Dec Voc:\",tf.strings.reduce_join(num_to_char(decoded_letter[x])).numpy().decode(\"utf-8\"))\n",
    "            print(\"Prediction Dec 40:\",tf.strings.reduce_join(num_to_char(decoded_40[x])).numpy().decode(\"utf-8\"))\n",
    "            print(\"Prediction Dec 30:\",tf.strings.reduce_join(num_to_char(decoded_30[x])).numpy().decode(\"utf-8\"))\n",
    "            print(\"Prediction Dec 20:\",tf.strings.reduce_join(num_to_char(decoded_20[x])).numpy().decode(\"utf-8\"))\n",
    "            print(\"Prediction Dec 10:\",tf.strings.reduce_join(num_to_char(decoded_10[x])).numpy().decode(\"utf-8\"))\n",
    "            print(\"Prediction Dec 5:\",tf.strings.reduce_join(num_to_char(decoded_5[x])).numpy().decode(\"utf-8\"))\n",
    "            print(\"Prediction Dec 1:\",tf.strings.reduce_join(num_to_char(decoded_1[x])).numpy().decode(\"utf-8\"))\n",
    "            print(\"Prediction Dec Greedy:\",tf.strings.reduce_join(num_to_char(decoded_1_greedy[x])).numpy().decode(\"utf-8\"))\n",
    "            print(\"\\n\\n\")"
   ]
  },
  {
   "cell_type": "code",
   "execution_count": null,
   "id": "ba8adbdc",
   "metadata": {},
   "outputs": [],
   "source": [
    "checkpoint_callback = ModelCheckpoint(os.path.join('checkpoints','weights-{epoch:02d}-{val_loss:.2f}.hdf5'), monitor='val_loss', save_weights_only=True, save_best_only=True,mode='min',save_freq='epoch') "
   ]
  },
  {
   "cell_type": "code",
   "execution_count": null,
   "id": "48eca991-90ab-4592-8a79-b50e9ca015b6",
   "metadata": {
    "tags": []
   },
   "outputs": [],
   "source": [
    "example_callback = ProduceExample(data)"
   ]
  },
  {
   "cell_type": "code",
   "execution_count": null,
   "id": "04be90d8-2482-46f9-b513-d5f4f8001c7e",
   "metadata": {
    "tags": []
   },
   "outputs": [],
   "source": [
    "model.compile(optimizer=tf.optimizers.Adam(learning_rate=0.0001), loss=CTCLoss)"
   ]
  },
  {
   "cell_type": "code",
   "execution_count": null,
   "id": "8ffba483-aa61-4bbe-a15f-a73e1ddf097c",
   "metadata": {
    "tags": []
   },
   "outputs": [],
   "source": [
    "history = model.fit(\n",
    "    train_data,\n",
    "    validation_data=val_data,\n",
    "    epochs=500,\n",
    "    callbacks=[\n",
    "        example_callback,\n",
    "        tf.keras.callbacks.EarlyStopping(\n",
    "            monitor='val_loss',  # Change to the appropriate loss or metric\n",
    "            patience=100,\n",
    "            restore_best_weights=True,\n",
    "        ),\n",
    "        checkpoint_callback\n",
    "    ],\n",
    "    batch_size=batch_size,\n",
    ")"
   ]
  },
  {
   "cell_type": "code",
   "execution_count": 23,
   "id": "5ef33978",
   "metadata": {},
   "outputs": [
    {
     "name": "stderr",
     "output_type": "stream",
     "text": [
      "C:\\Users\\Mgala\\AppData\\Roaming\\Python\\Python39\\site-packages\\google\\protobuf\\symbol_database.py:55: UserWarning: SymbolDatabase.GetPrototype() is deprecated. Please use message_factory.GetMessageClass() instead. SymbolDatabase.GetPrototype() will be removed soon.\n",
      "  warnings.warn('SymbolDatabase.GetPrototype() is deprecated. Please '\n"
     ]
    },
    {
     "name": "stdout",
     "output_type": "stream",
     "text": [
      "\n",
      "\n",
      "\n",
      "Original: عامل ايه انت كويس\n",
      "Prediction Dec 200: عامل ايه انت كويس\n",
      "\n",
      "\n",
      "\n",
      "\n",
      "\n",
      "\n",
      "Original: انا مش بسمع\n",
      "Prediction Dec 200: انا مش بسمع\n",
      "\n",
      "\n",
      "\n",
      "\n",
      "\n",
      "\n",
      "Original: فين الحمام لو سمحت\n",
      "Prediction Dec 200: فين الحمام لو سمحت\n",
      "\n",
      "\n",
      "\n",
      "\n",
      "\n",
      "\n",
      "Original: هتعمل ايه النهردا\n",
      "Prediction Dec 200: هتعمل ايه النهردا\n",
      "\n",
      "\n",
      "\n",
      "\n",
      "\n",
      "\n",
      "Original: اسمى محمد جلال و عندى واحد و عشرين سنه\n",
      "Prediction Dec 200: اسمى محمد جلال و عندى واحد و عشرين سنه\n",
      "\n",
      "\n",
      "\n",
      "\n",
      "\n",
      "\n",
      "Original: انا مش بشوف\n",
      "Prediction Dec 200: انا مش بشوف\n",
      "\n",
      "\n",
      "\n",
      "\n",
      "\n",
      "\n",
      "Original: انا مش بكلم للاسف\n",
      "Prediction Dec 200: انا مش بكلم لاسف\n",
      "\n",
      "\n",
      "\n",
      "\n",
      "\n",
      "\n",
      "Original: انا الحمد لله كويس\n",
      "Prediction Dec 200: انا الحمد له كويس\n",
      "\n",
      "\n",
      "\n",
      "\n",
      "\n",
      "\n",
      "Original: انا كويس\n",
      "Prediction Dec 200: انا كويس\n",
      "\n",
      "\n",
      "\n",
      "\n",
      "\n",
      "\n",
      "Original: انت اسمك ايه\n",
      "Prediction Dec 200: انت اسمك ايه\n",
      "\n",
      "\n",
      "\n",
      "\n",
      "\n",
      "\n",
      "Original: واحد اتنين تالاته\n",
      "Prediction Dec 200: واحد اتنين تالاته\n",
      "\n",
      "\n",
      "\n",
      "\n",
      "\n",
      "\n",
      "Original: انا عطشان\n",
      "Prediction Dec 200: انا عطشان\n",
      "\n",
      "\n",
      "\n",
      "\n",
      "\n",
      "\n",
      "Original: بعد اذنك انا عايز اعدى\n",
      "Prediction Dec 200: بعد اذنك انا عايز اعدى\n",
      "\n",
      "\n",
      "\n",
      "\n",
      "\n",
      "\n",
      "Original: انا جعان\n",
      "Prediction Dec 200: انا جعان\n",
      "\n",
      "\n",
      "\n",
      "\n",
      "\n",
      "\n",
      "Original: عندك كام سنه\n",
      "Prediction Dec 200: عندك كام سنه\n",
      "\n",
      "\n",
      "\n",
      "\n",
      "\n",
      "\n",
      "Original: سبعه تمنيه تسعه عشره\n",
      "Prediction Dec 200: سبعه تمنيه تسعه عشره\n",
      "\n",
      "\n",
      "\n"
     ]
    }
   ],
   "source": [
    "for i in train_data.as_numpy_iterator():\n",
    "    yhat = loaded_model.predict(i[0],verbose=0)\n",
    "    decoded_200 = tf.keras.backend.ctc_decode(yhat, [max_frames], greedy=False,beam_width=200)[0][0].numpy()\n",
    "    # decoded_100 = tf.keras.backend.ctc_decode(yhat, [max_frames], greedy=False,beam_width=100)[0][0].numpy()\n",
    "    # decoded_50 = tf.keras.backend.ctc_decode(yhat, [max_frames], greedy=False,beam_width=50)[0][0].numpy()\n",
    "    # decoded_letter = tf.keras.backend.ctc_decode(yhat, [max_frames], greedy=False,beam_width=char_to_num.vocabulary_size()+1)[0][0].numpy()\n",
    "    # decoded_40 = tf.keras.backend.ctc_decode(yhat, [max_frames], greedy=False,beam_width=40)[0][0].numpy()\n",
    "    # decoded_30 = tf.keras.backend.ctc_decode(yhat, [max_frames], greedy=False,beam_width=30)[0][0].numpy()\n",
    "    # decoded_20 = tf.keras.backend.ctc_decode(yhat, [max_frames], greedy=False,beam_width=20)[0][0].numpy()\n",
    "    # decoded_10 = tf.keras.backend.ctc_decode(yhat, [max_frames], greedy=False,beam_width=10)[0][0].numpy()\n",
    "    # decoded_5 = tf.keras.backend.ctc_decode(yhat, [max_frames], greedy=False,beam_width=5)[0][0].numpy()\n",
    "    # decoded_1 = tf.keras.backend.ctc_decode(yhat, [max_frames], greedy=False,beam_width=1)[0][0].numpy()\n",
    "    # decoded_1_greedy = tf.keras.backend.ctc_decode(yhat, [max_frames], greedy=True)[0][0].numpy()\n",
    "\n",
    "    for x in range(len(yhat)):\n",
    "        print(\"\\n\\n\")\n",
    "        print(\"Original:\",tf.strings.reduce_join(num_to_char(i[1][x])).numpy().decode(\"utf-8\"))\n",
    "        print(\"Prediction Dec 200:\",tf.strings.reduce_join(num_to_char(decoded_200[x])).numpy().decode(\"utf-8\"))\n",
    "        # print(\"Prediction Dec 100:\",tf.strings.reduce_join(num_to_char(decoded_100[x])).numpy().decode(\"utf-8\"))\n",
    "        # print(\"Prediction Dec 50:\",tf.strings.reduce_join(num_to_char(decoded_50[x])).numpy().decode(\"utf-8\"))\n",
    "        # print(\"Prediction Dec Voc:\",tf.strings.reduce_join(num_to_char(decoded_letter[x])).numpy().decode(\"utf-8\"))\n",
    "        # print(\"Prediction Dec 40:\",tf.strings.reduce_join(num_to_char(decoded_40[x])).numpy().decode(\"utf-8\"))\n",
    "        # print(\"Prediction Dec 30:\",tf.strings.reduce_join(num_to_char(decoded_30[x])).numpy().decode(\"utf-8\"))\n",
    "        # print(\"Prediction Dec 20:\",tf.strings.reduce_join(num_to_char(decoded_20[x])).numpy().decode(\"utf-8\"))\n",
    "        # print(\"Prediction Dec 10:\",tf.strings.reduce_join(num_to_char(decoded_10[x])).numpy().decode(\"utf-8\"))\n",
    "        # print(\"Prediction Dec 5:\",tf.strings.reduce_join(num_to_char(decoded_5[x])).numpy().decode(\"utf-8\"))\n",
    "        # print(\"Prediction Dec 1:\",tf.strings.reduce_join(num_to_char(decoded_1[x])).numpy().decode(\"utf-8\"))\n",
    "        # print(\"Prediction Dec Greedy:\",tf.strings.reduce_join(num_to_char(decoded_1_greedy[x])).numpy().decode(\"utf-8\"))\n",
    "        print(\"\\n\\n\")"
   ]
  },
  {
   "cell_type": "code",
   "execution_count": null,
   "id": "0d9a7005",
   "metadata": {},
   "outputs": [],
   "source": [
    "model_json = model.to_json()\n",
    "with open(\"models\\model.json\", \"w\") as json_file:\n",
    "    json_file.write(model_json)\n",
    "\n",
    "model.save_weights(\"models\\galal_22.h5\")"
   ]
  },
  {
   "cell_type": "code",
   "execution_count": 3,
   "id": "16a0c439",
   "metadata": {},
   "outputs": [],
   "source": [
    "with open('models\\galal_22.json', 'r') as json_file:\n",
    "    loaded_model_json = json_file.read()\n",
    "    loaded_model = model_from_json(loaded_model_json)\n",
    "    loaded_model.load_weights(\"models\\galal_22.h5\")"
   ]
  },
  {
   "cell_type": "code",
   "execution_count": null,
   "id": "4fbe25d4",
   "metadata": {},
   "outputs": [],
   "source": [
    "plt.plot(history.history['loss'])"
   ]
  },
  {
   "cell_type": "markdown",
   "id": "fa8ee94b-89f7-4733-8a0c-a86f86ff590a",
   "metadata": {
    "tags": []
   },
   "source": [
    "# 5. Make a Prediction "
   ]
  },
  {
   "cell_type": "code",
   "execution_count": null,
   "id": "01fa7204-ce0e-49a8-8dbd-14fe5dfead40",
   "metadata": {
    "tags": []
   },
   "outputs": [],
   "source": [
    "url = 'https://drive.google.com/uc?id=1vWscXs4Vt0a_1IH1-ct2TCgXAZT-N3_Y'\n",
    "output = 'checkpoints.zip'\n",
    "gdown.download(url, output, quiet=False)\n",
    "gdown.extractall('checkpoints.zip', 'models')"
   ]
  },
  {
   "cell_type": "code",
   "execution_count": null,
   "id": "247f664d-3c87-4e96-946e-930dad0e1c2c",
   "metadata": {
    "tags": []
   },
   "outputs": [],
   "source": [
    "model.load_weights('models/checkpoint')"
   ]
  },
  {
   "cell_type": "code",
   "execution_count": null,
   "id": "7f8d689f-b7bb-443c-9b88-e40c1d800828",
   "metadata": {
    "tags": []
   },
   "outputs": [],
   "source": [
    "test_data = test.as_numpy_iterator()"
   ]
  },
  {
   "cell_type": "code",
   "execution_count": null,
   "id": "38546dc2-bee9-4837-864b-8a884df40ad7",
   "metadata": {
    "tags": []
   },
   "outputs": [],
   "source": [
    "sample = test_data.next()"
   ]
  },
  {
   "cell_type": "code",
   "execution_count": null,
   "id": "a43621f0-229d-4c0d-9554-9c3a3da9c61a",
   "metadata": {
    "tags": []
   },
   "outputs": [],
   "source": [
    "yhat = model.predict(sample[0])"
   ]
  },
  {
   "cell_type": "code",
   "execution_count": null,
   "id": "ea462999-f87e-4a7e-a057-5be7b6d8f7d5",
   "metadata": {
    "tags": []
   },
   "outputs": [],
   "source": [
    "print('~'*100, 'REAL TEXT')\n",
    "[tf.strings.reduce_join([num_to_char(word) for word in sentence]) for sentence in sample[1]]"
   ]
  },
  {
   "cell_type": "code",
   "execution_count": null,
   "id": "82bd4c10-dd6e-411e-834b-2a3b43fd12c5",
   "metadata": {
    "tags": []
   },
   "outputs": [],
   "source": [
    "decoded = tf.keras.backend.ctc_decode(yhat, input_length=[75,75], greedy=True)[0][0].numpy()"
   ]
  },
  {
   "cell_type": "code",
   "execution_count": null,
   "id": "5d68ac46-c90b-4eab-a709-f19aee569ff5",
   "metadata": {
    "tags": []
   },
   "outputs": [],
   "source": [
    "print('~'*100, 'PREDICTIONS')\n",
    "[tf.strings.reduce_join([num_to_char(word) for word in sentence]) for sentence in decoded]"
   ]
  },
  {
   "cell_type": "markdown",
   "id": "64622f98-e99b-4fed-a2cc-f0da82eb5431",
   "metadata": {},
   "source": [
    "# Test on a Video"
   ]
  },
  {
   "cell_type": "code",
   "execution_count": null,
   "id": "a8b0c4d0-2031-4331-b91d-d87b1ae6f6e2",
   "metadata": {},
   "outputs": [],
   "source": [
    "sample = load_data(tf.convert_to_tensor('.\\\\data\\\\s1\\\\bras9a.mpg'))"
   ]
  },
  {
   "cell_type": "code",
   "execution_count": null,
   "id": "0cca60e4-47a9-4683-8a75-48f4684f723d",
   "metadata": {},
   "outputs": [],
   "source": [
    "print('~'*100, 'REAL TEXT')\n",
    "[tf.strings.reduce_join([num_to_char(word) for word in sentence]) for sentence in [sample[1]]]"
   ]
  },
  {
   "cell_type": "code",
   "execution_count": null,
   "id": "8cc5037c-1e32-435c-b0cc-01e1fb3b863c",
   "metadata": {},
   "outputs": [],
   "source": [
    "yhat = model.predict(tf.expand_dims(sample[0], axis=0))"
   ]
  },
  {
   "cell_type": "code",
   "execution_count": null,
   "id": "22c4f77d-715d-409f-bc5e-3ebe48704e8f",
   "metadata": {},
   "outputs": [],
   "source": [
    "decoded = tf.keras.backend.ctc_decode(yhat, input_length=[75], greedy=True)[0][0].numpy()"
   ]
  },
  {
   "cell_type": "code",
   "execution_count": null,
   "id": "e4d12ecc-b634-499e-a4bc-db9f010835fb",
   "metadata": {},
   "outputs": [],
   "source": [
    "print('~'*100, 'PREDICTIONS')\n",
    "[tf.strings.reduce_join([num_to_char(word) for word in sentence]) for sentence in decoded]"
   ]
  },
  {
   "cell_type": "code",
   "execution_count": null,
   "id": "fa95863d-3832-47bf-8a77-ebaa38054ace",
   "metadata": {},
   "outputs": [],
   "source": [
    "labels = \"\"\"عامل ايه انت كويس\n",
    "عملت ايه النهردا\n",
    "انت رايح فين دلوئتي\n",
    "هتعمل ايه النهردا\n",
    "واحد اتنين تالاته\n",
    "سته خمسه اربعه\n",
    "سبعه تمنيه تسعه عشره\n",
    "انت كويس\n",
    "انا كويس\n",
    "انا جعان\n",
    "انا عطشان\n",
    "انا مش بسمع\n",
    "انا مش بشوف\n",
    "عندك كام سنه\n",
    "انا مش بكلم للاسف\n",
    "بعد اذنك انا عايز اعدى\n",
    "انت اسمك ايه\n",
    "انا الحمد لله كويس\n",
    "فين الحمام لو سمحت\n",
    "ممكن تتكلم بسرعه\n",
    "ممكن تتكلم براحه\n",
    "الساعه كام لو سمحت\n",
    "الجو ساقع جدا النهردا\n",
    "انا تعبان جدا للاسف\n",
    "انا محتاج فلوس دلوقتي\n",
    "ممكن نخرج دلوقتي\n",
    "بقولك ايه يا باشا\n",
    "انا عايز اشتري حاجات\n",
    "واحشتنى ايه اخبارك\n",
    "الطريق زحمه و واقف\n",
    "تحب تشرب حاجه\n",
    "السلام عليكم دا بكام\n",
    "شكرا ساعدنى حالن\n",
    "اتفضل جوا خد راحتك\n",
    "انا اسف على سوء التفاهم\n",
    "أنا سعيد انى شفتك بك\n",
    "أنا معجب بشخصيتك\n",
    "أنا أحترمك جدا\n",
    "أنا أقدر اساعدك\n",
    "أنا آسف على التأخير\n",
    "أنا ممتن لاهتمامك\n",
    "أنا عايز اسمع اكتر\n",
    "أنا  عايز اشتغل معك\n",
    "أنا عازمك عندى فلبيت\n",
    "الرحلة  لشرم الشيخ يوم الجمعة الساعة 10 صباحا\n",
    "العرض المسرحي في المسرح القومي الساعة 8 مساء\n",
    "الماتش في ملعب القاهرة الساعة 6 مساء\n",
    "المعرض الفني في المتحف الوطني الساعة 11 صباحا\"\"\"\n",
    "idx = 3\n",
    "for line in labels.split(\"\\n\"):\n",
    "    print(line)        \n",
    "    for person in [\"Galal\"]:\n",
    "        with open(fr\"data\\me\\alignments\\{idx} {person}.align\",\"w\") as writer:\n",
    "            writer.write(\"\\n\".join(line.split()))\n",
    "    idx +=1"
   ]
  },
  {
   "cell_type": "code",
   "execution_count": null,
   "id": "e1e14173",
   "metadata": {},
   "outputs": [],
   "source": []
  }
 ],
 "metadata": {
  "kernelspec": {
   "display_name": "base",
   "language": "python",
   "name": "python3"
  },
  "language_info": {
   "codemirror_mode": {
    "name": "ipython",
    "version": 3
   },
   "file_extension": ".py",
   "mimetype": "text/x-python",
   "name": "python",
   "nbconvert_exporter": "python",
   "pygments_lexer": "ipython3",
   "version": "3.9.18"
  }
 },
 "nbformat": 4,
 "nbformat_minor": 5
}
